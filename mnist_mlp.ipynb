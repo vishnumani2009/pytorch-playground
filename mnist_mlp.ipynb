{
 "cells": [
  {
   "cell_type": "code",
   "execution_count": null,
   "metadata": {
    "collapsed": true
   },
   "outputs": [],
   "source": [
    "#import basic requirements\n",
    "import torch\n",
    "import torch.nn as nn\n",
    "import torch.nn.functional as F\n",
    "from torch.autograd import Variable\n",
    "import torch.optim as optim\n",
    "import torch.utils.data as utils\n",
    "import numpy as np\n",
    "dtype= torch.cuda.FloatTensor"
   ]
  },
  {
   "cell_type": "code",
   "execution_count": null,
   "metadata": {
    "collapsed": true
   },
   "outputs": [],
   "source": [
    "def load_data(path='mnist.npz'):\n",
    "    \"\"\"Loads the MNIST dataset.\n",
    "    # Arguments\n",
    "        path: path where mnist is stored locallym, download from https://s3.amazonaws.com/img-datasets/mnist.npz\n",
    "            \n",
    "    # Returns\n",
    "        Tuple of Numpy arrays: `(x_train, y_train), (x_test, y_test)`.\n",
    "    \"\"\"\n",
    "    \n",
    "    f = np.load(path)\n",
    "    x_train, y_train = f['x_train'], f['y_train']\n",
    "    x_test, y_test = f['x_test'], f['y_test']\n",
    "    f.close()\n",
    "    return (x_train, y_train), (x_test, y_test)\n"
   ]
  },
  {
   "cell_type": "code",
   "execution_count": null,
   "metadata": {
    "collapsed": true
   },
   "outputs": [],
   "source": [
    "def to_categorical(y, num_classes=None):\n",
    "    \"\"\"Converts a class vector (integers) to binary class matrix.\n",
    "    E.g. for use with categorical_crossentropy.\n",
    "    # Arguments\n",
    "        y: class vector to be converted into a matrix\n",
    "            (integers from 0 to num_classes).\n",
    "        num_classes: total number of classes.\n",
    "    # Returns\n",
    "        A binary matrix representation of the input.\n",
    "    \"\"\"\n",
    "    y = np.array(y, dtype='int').ravel()\n",
    "    if not num_classes:\n",
    "        num_classes = np.max(y) + 1\n",
    "    n = y.shape[0]\n",
    "\n",
    "    categorical = np.zeros((n, num_classes))\n",
    "    categorical[np.arange(n), y] = 1\n",
    "    return categorical"
   ]
  },
  {
   "cell_type": "code",
   "execution_count": null,
   "metadata": {},
   "outputs": [],
   "source": [
    "#create dataset for training and testing\n",
    "batch_size = 128\n",
    "num_classes = 10\n",
    "epochs = 20\n",
    "\n",
    "# the data, shuffled and split between train and test sets\n",
    "(x_train, y_train), (x_test, y_test) = load_data()\n",
    "\n",
    "x_train = x_train.reshape(60000, 784)\n",
    "x_test = x_test.reshape(10000, 784)\n",
    "x_train = x_train.astype('float32')\n",
    "x_test = x_test.astype('float32')\n",
    "x_train /= 255\n",
    "x_test /= 255\n",
    "#print(x_train.shape, 'train samples')\n",
    "#print(x_test.shape, 'test samples')\n",
    "y_train=to_categorical(y_train,10)\n",
    "y_test=to_categorical(y_test,10)\n",
    "ypred=[]\n"
   ]
  },
  {
   "cell_type": "code",
   "execution_count": null,
   "metadata": {
    "collapsed": true
   },
   "outputs": [],
   "source": [
    "#create a two layer mLP\n",
    "class Net(nn.Module):\n",
    "    def __init__(self):\n",
    "        super(Net,self).__init__()\n",
    "        self.fc1=nn.Linear(784,512)\n",
    "        self.fc2=nn.Linear(512,50)\n",
    "        self.fc3=nn.Linear(50,10)\n",
    "     \n",
    "    def forward(self,x):\n",
    "        x=F.relu(self.fc1(x))\n",
    "        x=F.relu(self.fc2(x))\n",
    "        x=(self.fc3(x))\n",
    "        \n",
    "        return x\n",
    "    \n",
    "    "
   ]
  },
  {
   "cell_type": "code",
   "execution_count": null,
   "metadata": {
    "collapsed": true
   },
   "outputs": [],
   "source": [
    "#convert dataset and train\n",
    "net=Net()\n",
    "net=net.cuda()\n",
    "#convert numpy arrays to torch tensors\n",
    "Xtr=torch.stack([torch.Tensor(i) for i in x_train])\n",
    "Ytr=torch.stack([torch.Tensor(i) for i in y_train])\n",
    "\n",
    "Xte=torch.stack([torch.Tensor(i) for i in x_test])\n",
    "Yte=torch.stack([torch.Tensor(i) for i in y_test])\n",
    "\n",
    "traindataset=utils.TensorDataset(Xtr,Ytr)\n",
    "traindataloader=utils.DataLoader(traindataset)\n",
    "\n",
    "\n",
    "testdataset=utils.TensorDataset(Xte,Yte)\n",
    "testdataloader=utils.DataLoader(testdataset)\n",
    "\n",
    "\n",
    "\n",
    "epochs=100\n",
    "optimizer=optim.SGD(net.parameters(),lr=0.01)\n",
    "criterion=torch.nn.MSELoss()"
   ]
  },
  {
   "cell_type": "code",
   "execution_count": null,
   "metadata": {},
   "outputs": [],
   "source": [
    "def train():\n",
    "    net.train()\n",
    "    for batch,(data,target) in enumerate(traindataloader):\n",
    "        data, target = data.cuda(), target.cuda()\n",
    "        data,target=Variable(data),Variable(target)\n",
    "        optimizer.zero_grad()\n",
    "        #print data.size()\n",
    "        output=net(data)\n",
    "        loss=criterion(output,target)\n",
    "        loss.backward()\n",
    "        optimizer.step()\n",
    "        if batch % 10 == 0:\n",
    "            print('Train Epoch: {} [{}/{} ({:.0f}%)]\\tLoss: {:.6f}'.format(\n",
    "                epoch, batch * len(data), len(traindataloader.dataset),\n",
    "                100. * batch / len(traindataloader), loss.data[0]))\n",
    "\n",
    "\n",
    "def test():\n",
    "    net.eval()\n",
    "    correct=0\n",
    "    testloss=0\n",
    "    \n",
    "    #todo: must optimize bunch of functions\n",
    "    for data,target in testdataloader:\n",
    "        data, target = data.cuda(), target.cuda()\n",
    "        data, target = Variable(data), Variable(target)\n",
    "        output = net(data).cpu().data.numpy()[0]\n",
    "        output=np.array(output)\n",
    "        op=[]\n",
    "        for i in output:\n",
    "            if i==np.max(output):\n",
    "                op.append(1)\n",
    "            else:\n",
    "                op.append(0)\n",
    "        ypred.append(op)\n",
    "        #print op\n",
    "\n"
   ]
  },
  {
   "cell_type": "code",
   "execution_count": null,
   "metadata": {},
   "outputs": [],
   "source": [
    "#test for multiple epochs\n",
    "for epoch in range(1):\n",
    "    train()\n",
    "    test()\n",
    "ynewpr=[np.argmax(i,axis=-1) for i in ypred]\n",
    "ynewte=[np.argmax(i,axis=-1) for i in y_test]\n",
    "from sklearn.metrics import classification_report\n",
    "print(classification_report(ynewte, ynewpr))"
   ]
  },
  {
   "cell_type": "code",
   "execution_count": null,
   "metadata": {},
   "outputs": [],
   "source": []
  },
  {
   "cell_type": "code",
   "execution_count": null,
   "metadata": {
    "collapsed": true
   },
   "outputs": [],
   "source": []
  }
 ],
 "metadata": {
  "kernelspec": {
   "display_name": "Python 2",
   "language": "python",
   "name": "python2"
  },
  "language_info": {
   "codemirror_mode": {
    "name": "ipython",
    "version": 2
   },
   "file_extension": ".py",
   "mimetype": "text/x-python",
   "name": "python",
   "nbconvert_exporter": "python",
   "pygments_lexer": "ipython2",
   "version": "2.7.10"
  }
 },
 "nbformat": 4,
 "nbformat_minor": 2
}
